{
 "cells": [
  {
   "cell_type": "markdown",
   "id": "ffc1c5e0",
   "metadata": {},
   "source": [
    "#        PROJECT TITLE:\n",
    "\n",
    "# Analysis on UK Food Hygiene Rating Data (London):\n",
    "Food Hygiene Rating of Business in Boroughs of London in United Kingdom"
   ]
  },
  {
   "cell_type": "markdown",
   "id": "86b9d306",
   "metadata": {},
   "source": [
    "# Agenda\n",
    " \n",
    "1. Intoduction[Project Definition]\n",
    "2. Data Investigation & Cleaning\n",
    "3. Data Visualization\n",
    "4. Insights\n",
    "5. Conclusion"
   ]
  },
  {
   "cell_type": "markdown",
   "id": "6858ba29",
   "metadata": {},
   "source": [
    "1. Introduction \n",
    "\n",
    "# About Dataset\n",
    "\n",
    "The data provides the food hygiene rating or inspection result given to a business and reflects the standards of food hygiene found on the date of inspection or visit by the local authority. Businesses include restaurants, pubs, cafés, takeaways, hotels and other places consumers eat, as well as in supermarkets and other food shop.\n",
    "\n",
    "Food Hygiene Agency inspect business to protect consumers and ensure food safety and hygiene is a priority for food businesses. -Dataset including Boroughs of London inspection and rating information\n"
   ]
  },
  {
   "cell_type": "markdown",
   "id": "b4fe572c",
   "metadata": {},
   "source": [
    "# About this file\n",
    "\n",
    "In this Notebook we extracted datasets from multiple XML sources. -Food Hygiene Agency inspect business to protect consumers and ensure food safety and hygiene is a priority for food businesses. -Dataset includings Boroughs of London inspection and rating informations.\n",
    "\n",
    "Food Hygiene Rating Scheme\n",
    "\n",
    "5 – Hygiene standards are very good\n",
    "\n",
    "4 – Hygiene standards are good\n",
    "\n",
    "3 – Hygiene standards are generally satisfactory\n",
    "\n",
    "2 – Some improvement is necessary\n",
    "\n",
    "1 – Major improvement is necessary\n",
    "\n",
    "0 – Urgent improvement is required"
   ]
  },
  {
   "cell_type": "markdown",
   "id": "4ab2f7de",
   "metadata": {},
   "source": [
    "# 2. Data Investigation & Cleaning\n",
    "\n",
    "For every given dataset, the most important elements are the columns containing numbers{Values}. So for this our datasets, the main candidates for creating our different reports are​\n",
    "\n",
    "    -Rating Values                   -LocalAuthoritycode​\n",
    "            While others are just description\n",
    "            \n",
    "The Food Hygiene Rating DataSet mainly contains 12 columns;\n",
    "Index(['FHRSID', 'LocalAuthorityBusinessID', 'BusinessName', 'BusinessType',\n",
    "       'PostCode', 'RatingValue', 'RatingKey', 'RatingDate',\n",
    "       'LocalAuthorityCode', 'LocalAuthorityName', 'Longitude', 'Latitude'],\n",
    "      dtype='object') \n",
    "but after loading/importing it into jupyter notebook, an 'Unnamed_0' column appears which stands like a serial number column. So by <pd.read_csv(\"food_hygiene_rating_data.csv\", index_col = 0)> removes the 'Unnamed_0' column, thereby retaining its initial number of columns"
   ]
  },
  {
   "cell_type": "markdown",
   "id": "6ac179bb",
   "metadata": {},
   "source": [
    "# 3. Data Visualization\n",
    "\n"
   ]
  },
  {
   "cell_type": "markdown",
   "id": "f2eea72f",
   "metadata": {},
   "source": [
    "3.1 Importing useful Libraries"
   ]
  },
  {
   "cell_type": "code",
   "execution_count": 1,
   "id": "cdcaaa6f",
   "metadata": {},
   "outputs": [],
   "source": [
    "import pandas as pd\n",
    "import seaborn as sns\n",
    "import matplotlib.pyplot as plt\n",
    "%matplotlib inline\n",
    "import itertools"
   ]
  },
  {
   "cell_type": "markdown",
   "id": "2bef5ad8",
   "metadata": {},
   "source": [
    "3.2 Loading the Dataset"
   ]
  },
  {
   "cell_type": "code",
   "execution_count": 2,
   "id": "b57334bb",
   "metadata": {},
   "outputs": [],
   "source": [
    "dataset = pd.read_csv('food_hygiene_rating_data.csv') #, index_col=0)"
   ]
  },
  {
   "cell_type": "code",
   "execution_count": 3,
   "id": "de87bf5c",
   "metadata": {},
   "outputs": [
    {
     "data": {
      "text/html": [
       "<div>\n",
       "<style scoped>\n",
       "    .dataframe tbody tr th:only-of-type {\n",
       "        vertical-align: middle;\n",
       "    }\n",
       "\n",
       "    .dataframe tbody tr th {\n",
       "        vertical-align: top;\n",
       "    }\n",
       "\n",
       "    .dataframe thead th {\n",
       "        text-align: right;\n",
       "    }\n",
       "</style>\n",
       "<table border=\"1\" class=\"dataframe\">\n",
       "  <thead>\n",
       "    <tr style=\"text-align: right;\">\n",
       "      <th></th>\n",
       "      <th>FHRS_ID</th>\n",
       "      <th>Local Authority Business_ID</th>\n",
       "      <th>Business Name</th>\n",
       "      <th>Business Type</th>\n",
       "      <th>PostCode</th>\n",
       "      <th>Rating Value</th>\n",
       "      <th>Rating Key</th>\n",
       "      <th>Rating Date</th>\n",
       "      <th>Local Authority Code</th>\n",
       "      <th>Local Authority Name</th>\n",
       "      <th>Longitude</th>\n",
       "      <th>Latitude</th>\n",
       "    </tr>\n",
       "  </thead>\n",
       "  <tbody>\n",
       "    <tr>\n",
       "      <th>0</th>\n",
       "      <td>1438654</td>\n",
       "      <td>21/00856/FOOD</td>\n",
       "      <td>1st Base Catering</td>\n",
       "      <td>Mobile caterer</td>\n",
       "      <td>E20 2ST</td>\n",
       "      <td>AwaitingInspection</td>\n",
       "      <td>fhrs_awaitinginspection_en-GB</td>\n",
       "      <td>NaN</td>\n",
       "      <td>525</td>\n",
       "      <td>Newham</td>\n",
       "      <td>-0.018066</td>\n",
       "      <td>51.538799</td>\n",
       "    </tr>\n",
       "    <tr>\n",
       "      <th>1</th>\n",
       "      <td>1132140</td>\n",
       "      <td>19/00459/FOOD</td>\n",
       "      <td>53.5 Degrees</td>\n",
       "      <td>Restaurant/Cafe/Canteen</td>\n",
       "      <td>E16 2RD</td>\n",
       "      <td>5</td>\n",
       "      <td>fhrs_5_en-GB</td>\n",
       "      <td>5/10/2019</td>\n",
       "      <td>525</td>\n",
       "      <td>Newham</td>\n",
       "      <td>0.064757</td>\n",
       "      <td>51.507405</td>\n",
       "    </tr>\n",
       "    <tr>\n",
       "      <th>2</th>\n",
       "      <td>1132134</td>\n",
       "      <td>19/00447/FOOD</td>\n",
       "      <td>53.5 Degrees</td>\n",
       "      <td>Restaurant/Cafe/Canteen</td>\n",
       "      <td>E15 4LZ</td>\n",
       "      <td>5</td>\n",
       "      <td>fhrs_5_en-GB</td>\n",
       "      <td>5/14/2019</td>\n",
       "      <td>525</td>\n",
       "      <td>Newham</td>\n",
       "      <td>0.009809</td>\n",
       "      <td>51.543395</td>\n",
       "    </tr>\n",
       "    <tr>\n",
       "      <th>3</th>\n",
       "      <td>1260384</td>\n",
       "      <td>20/00288/FOOD</td>\n",
       "      <td>55 Square Limited</td>\n",
       "      <td>Restaurant/Cafe/Canteen</td>\n",
       "      <td>E16 1EN</td>\n",
       "      <td>2</td>\n",
       "      <td>fhrs_2_en-GB</td>\n",
       "      <td>12/9/2020</td>\n",
       "      <td>525</td>\n",
       "      <td>Newham</td>\n",
       "      <td>0.012417</td>\n",
       "      <td>51.517514</td>\n",
       "    </tr>\n",
       "    <tr>\n",
       "      <th>4</th>\n",
       "      <td>1389145</td>\n",
       "      <td>21/00354/FOOD</td>\n",
       "      <td>7 Mamas Ltd</td>\n",
       "      <td>Takeaway/sandwich shop</td>\n",
       "      <td>E6 3HN</td>\n",
       "      <td>5</td>\n",
       "      <td>fhrs_5_en-GB</td>\n",
       "      <td>1/5/2022</td>\n",
       "      <td>525</td>\n",
       "      <td>Newham</td>\n",
       "      <td>0.055372</td>\n",
       "      <td>51.527803</td>\n",
       "    </tr>\n",
       "  </tbody>\n",
       "</table>\n",
       "</div>"
      ],
      "text/plain": [
       "   FHRS_ID Local Authority Business_ID      Business Name  \\\n",
       "0  1438654               21/00856/FOOD  1st Base Catering   \n",
       "1  1132140               19/00459/FOOD       53.5 Degrees   \n",
       "2  1132134               19/00447/FOOD       53.5 Degrees   \n",
       "3  1260384               20/00288/FOOD  55 Square Limited   \n",
       "4  1389145               21/00354/FOOD        7 Mamas Ltd   \n",
       "\n",
       "             Business Type PostCode        Rating Value  \\\n",
       "0           Mobile caterer  E20 2ST  AwaitingInspection   \n",
       "1  Restaurant/Cafe/Canteen  E16 2RD                   5   \n",
       "2  Restaurant/Cafe/Canteen  E15 4LZ                   5   \n",
       "3  Restaurant/Cafe/Canteen  E16 1EN                   2   \n",
       "4   Takeaway/sandwich shop   E6 3HN                   5   \n",
       "\n",
       "                      Rating Key Rating Date  Local Authority Code  \\\n",
       "0  fhrs_awaitinginspection_en-GB         NaN                   525   \n",
       "1                   fhrs_5_en-GB   5/10/2019                   525   \n",
       "2                   fhrs_5_en-GB   5/14/2019                   525   \n",
       "3                   fhrs_2_en-GB   12/9/2020                   525   \n",
       "4                   fhrs_5_en-GB    1/5/2022                   525   \n",
       "\n",
       "  Local Authority Name  Longitude   Latitude  \n",
       "0               Newham  -0.018066  51.538799  \n",
       "1               Newham   0.064757  51.507405  \n",
       "2               Newham   0.009809  51.543395  \n",
       "3               Newham   0.012417  51.517514  \n",
       "4               Newham   0.055372  51.527803  "
      ]
     },
     "execution_count": 3,
     "metadata": {},
     "output_type": "execute_result"
    }
   ],
   "source": [
    "dataset.head()"
   ]
  },
  {
   "cell_type": "code",
   "execution_count": 4,
   "id": "cc4531d6",
   "metadata": {},
   "outputs": [],
   "source": [
    "dataset = pd.read_csv('food_hygiene_rating_data.csv') #, index_col=0"
   ]
  },
  {
   "cell_type": "markdown",
   "id": "fd33bc3a",
   "metadata": {},
   "source": [
    "index_col = 0 wiil take column 0 to an index"
   ]
  },
  {
   "cell_type": "code",
   "execution_count": 5,
   "id": "c28a49ba",
   "metadata": {},
   "outputs": [
    {
     "data": {
      "text/html": [
       "<div>\n",
       "<style scoped>\n",
       "    .dataframe tbody tr th:only-of-type {\n",
       "        vertical-align: middle;\n",
       "    }\n",
       "\n",
       "    .dataframe tbody tr th {\n",
       "        vertical-align: top;\n",
       "    }\n",
       "\n",
       "    .dataframe thead th {\n",
       "        text-align: right;\n",
       "    }\n",
       "</style>\n",
       "<table border=\"1\" class=\"dataframe\">\n",
       "  <thead>\n",
       "    <tr style=\"text-align: right;\">\n",
       "      <th></th>\n",
       "      <th>FHRS_ID</th>\n",
       "      <th>Local Authority Business_ID</th>\n",
       "      <th>Business Name</th>\n",
       "      <th>Business Type</th>\n",
       "      <th>PostCode</th>\n",
       "      <th>Rating Value</th>\n",
       "      <th>Rating Key</th>\n",
       "      <th>Rating Date</th>\n",
       "      <th>Local Authority Code</th>\n",
       "      <th>Local Authority Name</th>\n",
       "      <th>Longitude</th>\n",
       "      <th>Latitude</th>\n",
       "    </tr>\n",
       "  </thead>\n",
       "  <tbody>\n",
       "    <tr>\n",
       "      <th>0</th>\n",
       "      <td>1438654</td>\n",
       "      <td>21/00856/FOOD</td>\n",
       "      <td>1st Base Catering</td>\n",
       "      <td>Mobile caterer</td>\n",
       "      <td>E20 2ST</td>\n",
       "      <td>AwaitingInspection</td>\n",
       "      <td>fhrs_awaitinginspection_en-GB</td>\n",
       "      <td>NaN</td>\n",
       "      <td>525</td>\n",
       "      <td>Newham</td>\n",
       "      <td>-0.018066</td>\n",
       "      <td>51.538799</td>\n",
       "    </tr>\n",
       "    <tr>\n",
       "      <th>1</th>\n",
       "      <td>1132140</td>\n",
       "      <td>19/00459/FOOD</td>\n",
       "      <td>53.5 Degrees</td>\n",
       "      <td>Restaurant/Cafe/Canteen</td>\n",
       "      <td>E16 2RD</td>\n",
       "      <td>5</td>\n",
       "      <td>fhrs_5_en-GB</td>\n",
       "      <td>5/10/2019</td>\n",
       "      <td>525</td>\n",
       "      <td>Newham</td>\n",
       "      <td>0.064757</td>\n",
       "      <td>51.507405</td>\n",
       "    </tr>\n",
       "    <tr>\n",
       "      <th>2</th>\n",
       "      <td>1132134</td>\n",
       "      <td>19/00447/FOOD</td>\n",
       "      <td>53.5 Degrees</td>\n",
       "      <td>Restaurant/Cafe/Canteen</td>\n",
       "      <td>E15 4LZ</td>\n",
       "      <td>5</td>\n",
       "      <td>fhrs_5_en-GB</td>\n",
       "      <td>5/14/2019</td>\n",
       "      <td>525</td>\n",
       "      <td>Newham</td>\n",
       "      <td>0.009809</td>\n",
       "      <td>51.543395</td>\n",
       "    </tr>\n",
       "    <tr>\n",
       "      <th>3</th>\n",
       "      <td>1260384</td>\n",
       "      <td>20/00288/FOOD</td>\n",
       "      <td>55 Square Limited</td>\n",
       "      <td>Restaurant/Cafe/Canteen</td>\n",
       "      <td>E16 1EN</td>\n",
       "      <td>2</td>\n",
       "      <td>fhrs_2_en-GB</td>\n",
       "      <td>12/9/2020</td>\n",
       "      <td>525</td>\n",
       "      <td>Newham</td>\n",
       "      <td>0.012417</td>\n",
       "      <td>51.517514</td>\n",
       "    </tr>\n",
       "    <tr>\n",
       "      <th>4</th>\n",
       "      <td>1389145</td>\n",
       "      <td>21/00354/FOOD</td>\n",
       "      <td>7 Mamas Ltd</td>\n",
       "      <td>Takeaway/sandwich shop</td>\n",
       "      <td>E6 3HN</td>\n",
       "      <td>5</td>\n",
       "      <td>fhrs_5_en-GB</td>\n",
       "      <td>1/5/2022</td>\n",
       "      <td>525</td>\n",
       "      <td>Newham</td>\n",
       "      <td>0.055372</td>\n",
       "      <td>51.527803</td>\n",
       "    </tr>\n",
       "  </tbody>\n",
       "</table>\n",
       "</div>"
      ],
      "text/plain": [
       "   FHRS_ID Local Authority Business_ID      Business Name  \\\n",
       "0  1438654               21/00856/FOOD  1st Base Catering   \n",
       "1  1132140               19/00459/FOOD       53.5 Degrees   \n",
       "2  1132134               19/00447/FOOD       53.5 Degrees   \n",
       "3  1260384               20/00288/FOOD  55 Square Limited   \n",
       "4  1389145               21/00354/FOOD        7 Mamas Ltd   \n",
       "\n",
       "             Business Type PostCode        Rating Value  \\\n",
       "0           Mobile caterer  E20 2ST  AwaitingInspection   \n",
       "1  Restaurant/Cafe/Canteen  E16 2RD                   5   \n",
       "2  Restaurant/Cafe/Canteen  E15 4LZ                   5   \n",
       "3  Restaurant/Cafe/Canteen  E16 1EN                   2   \n",
       "4   Takeaway/sandwich shop   E6 3HN                   5   \n",
       "\n",
       "                      Rating Key Rating Date  Local Authority Code  \\\n",
       "0  fhrs_awaitinginspection_en-GB         NaN                   525   \n",
       "1                   fhrs_5_en-GB   5/10/2019                   525   \n",
       "2                   fhrs_5_en-GB   5/14/2019                   525   \n",
       "3                   fhrs_2_en-GB   12/9/2020                   525   \n",
       "4                   fhrs_5_en-GB    1/5/2022                   525   \n",
       "\n",
       "  Local Authority Name  Longitude   Latitude  \n",
       "0               Newham  -0.018066  51.538799  \n",
       "1               Newham   0.064757  51.507405  \n",
       "2               Newham   0.009809  51.543395  \n",
       "3               Newham   0.012417  51.517514  \n",
       "4               Newham   0.055372  51.527803  "
      ]
     },
     "execution_count": 5,
     "metadata": {},
     "output_type": "execute_result"
    }
   ],
   "source": [
    "dataset.head()"
   ]
  },
  {
   "cell_type": "code",
   "execution_count": 6,
   "id": "3af714d8",
   "metadata": {},
   "outputs": [
    {
     "data": {
      "text/plain": [
       "Index(['FHRS_ID', 'Local Authority Business_ID', 'Business Name',\n",
       "       'Business Type', 'PostCode', 'Rating Value', 'Rating Key',\n",
       "       'Rating Date', 'Local Authority Code', 'Local Authority Name',\n",
       "       'Longitude', 'Latitude'],\n",
       "      dtype='object')"
      ]
     },
     "execution_count": 6,
     "metadata": {},
     "output_type": "execute_result"
    }
   ],
   "source": [
    "dataset.columns"
   ]
  },
  {
   "cell_type": "code",
   "execution_count": 7,
   "id": "273e7e19",
   "metadata": {},
   "outputs": [
    {
     "data": {
      "text/plain": [
       "24352"
      ]
     },
     "execution_count": 7,
     "metadata": {},
     "output_type": "execute_result"
    }
   ],
   "source": [
    "len(dataset)"
   ]
  },
  {
   "cell_type": "code",
   "execution_count": 8,
   "id": "60e43e48",
   "metadata": {},
   "outputs": [
    {
     "name": "stdout",
     "output_type": "stream",
     "text": [
      "<class 'str'>\n"
     ]
    }
   ],
   "source": [
    "print(type('Rating Value'))"
   ]
  },
  {
   "cell_type": "code",
   "execution_count": 9,
   "id": "771ff00b",
   "metadata": {},
   "outputs": [
    {
     "name": "stdout",
     "output_type": "stream",
     "text": [
      "<class 'int'>\n"
     ]
    }
   ],
   "source": [
    "print(type(5))"
   ]
  },
  {
   "cell_type": "markdown",
   "id": "dbb377e3",
   "metadata": {},
   "source": [
    "3.3 DataSet Splitting\n",
    "\n",
    "From Data Investigation & cleaning it was said that  'For every given dataset, the most important elements are the columns containing numbers{Values}. So for this our datasets, the main candidates for creating our different reports are​\n",
    "\n",
    "    -Rating Values                   -LocalAuthoritycode​\n",
    "            While others are just description'\n",
    "   \n",
    "so since our Rating Value comtains both Rated & Not_rated values we need to split into their different types"
   ]
  },
  {
   "cell_type": "markdown",
   "id": "ea1826df",
   "metadata": {},
   "source": [
    "    3.3.1 Not_rated values"
   ]
  },
  {
   "cell_type": "code",
   "execution_count": 10,
   "id": "736dcf8d",
   "metadata": {},
   "outputs": [],
   "source": [
    "not_rated = ['AwaitingInspection','AwaitingPublication','Exempt']\n",
    "dataset_not_rated = dataset[dataset['Rating Value'].isin(not_rated)]"
   ]
  },
  {
   "cell_type": "code",
   "execution_count": 11,
   "id": "51de1f58",
   "metadata": {},
   "outputs": [
    {
     "data": {
      "text/html": [
       "<div>\n",
       "<style scoped>\n",
       "    .dataframe tbody tr th:only-of-type {\n",
       "        vertical-align: middle;\n",
       "    }\n",
       "\n",
       "    .dataframe tbody tr th {\n",
       "        vertical-align: top;\n",
       "    }\n",
       "\n",
       "    .dataframe thead th {\n",
       "        text-align: right;\n",
       "    }\n",
       "</style>\n",
       "<table border=\"1\" class=\"dataframe\">\n",
       "  <thead>\n",
       "    <tr style=\"text-align: right;\">\n",
       "      <th></th>\n",
       "      <th>FHRS_ID</th>\n",
       "      <th>Local Authority Business_ID</th>\n",
       "      <th>Business Name</th>\n",
       "      <th>Business Type</th>\n",
       "      <th>PostCode</th>\n",
       "      <th>Rating Value</th>\n",
       "      <th>Rating Key</th>\n",
       "      <th>Rating Date</th>\n",
       "      <th>Local Authority Code</th>\n",
       "      <th>Local Authority Name</th>\n",
       "      <th>Longitude</th>\n",
       "      <th>Latitude</th>\n",
       "    </tr>\n",
       "  </thead>\n",
       "  <tbody>\n",
       "    <tr>\n",
       "      <th>0</th>\n",
       "      <td>1438654</td>\n",
       "      <td>21/00856/FOOD</td>\n",
       "      <td>1st Base Catering</td>\n",
       "      <td>Mobile caterer</td>\n",
       "      <td>E20 2ST</td>\n",
       "      <td>AwaitingInspection</td>\n",
       "      <td>fhrs_awaitinginspection_en-GB</td>\n",
       "      <td>NaN</td>\n",
       "      <td>525</td>\n",
       "      <td>Newham</td>\n",
       "      <td>-0.018066</td>\n",
       "      <td>51.538799</td>\n",
       "    </tr>\n",
       "    <tr>\n",
       "      <th>22</th>\n",
       "      <td>1471237</td>\n",
       "      <td>22/00628/FOOD</td>\n",
       "      <td>Ackeee Tree - HAF Project</td>\n",
       "      <td>Other catering premises</td>\n",
       "      <td>E7 8LE</td>\n",
       "      <td>AwaitingInspection</td>\n",
       "      <td>fhrs_awaitinginspection_en-GB</td>\n",
       "      <td>NaN</td>\n",
       "      <td>525</td>\n",
       "      <td>Newham</td>\n",
       "      <td>0.032353</td>\n",
       "      <td>51.539895</td>\n",
       "    </tr>\n",
       "    <tr>\n",
       "      <th>23</th>\n",
       "      <td>1471238</td>\n",
       "      <td>22/00629/FOOD</td>\n",
       "      <td>Ackeee Tree Childrens Club - HAF Project</td>\n",
       "      <td>Other catering premises</td>\n",
       "      <td>E7 8JT</td>\n",
       "      <td>AwaitingInspection</td>\n",
       "      <td>fhrs_awaitinginspection_en-GB</td>\n",
       "      <td>NaN</td>\n",
       "      <td>525</td>\n",
       "      <td>Newham</td>\n",
       "      <td>0.032430</td>\n",
       "      <td>51.541611</td>\n",
       "    </tr>\n",
       "    <tr>\n",
       "      <th>27</th>\n",
       "      <td>1006732</td>\n",
       "      <td>17/00416/FOOD</td>\n",
       "      <td>Agas Foods Ltd</td>\n",
       "      <td>Manufacturers/packers</td>\n",
       "      <td>E13 0QZ</td>\n",
       "      <td>Exempt</td>\n",
       "      <td>fhrs_exempt_en-GB</td>\n",
       "      <td>9/13/2017</td>\n",
       "      <td>525</td>\n",
       "      <td>Newham</td>\n",
       "      <td>0.031067</td>\n",
       "      <td>51.537643</td>\n",
       "    </tr>\n",
       "    <tr>\n",
       "      <th>29</th>\n",
       "      <td>1414858</td>\n",
       "      <td>21/00653/FOOD</td>\n",
       "      <td>Aguia D Ouro</td>\n",
       "      <td>Retailers - other</td>\n",
       "      <td>E16 1FD</td>\n",
       "      <td>AwaitingInspection</td>\n",
       "      <td>fhrs_awaitinginspection_en-GB</td>\n",
       "      <td>NaN</td>\n",
       "      <td>525</td>\n",
       "      <td>Newham</td>\n",
       "      <td>0.021563</td>\n",
       "      <td>51.508239</td>\n",
       "    </tr>\n",
       "  </tbody>\n",
       "</table>\n",
       "</div>"
      ],
      "text/plain": [
       "    FHRS_ID Local Authority Business_ID  \\\n",
       "0   1438654               21/00856/FOOD   \n",
       "22  1471237               22/00628/FOOD   \n",
       "23  1471238               22/00629/FOOD   \n",
       "27  1006732               17/00416/FOOD   \n",
       "29  1414858               21/00653/FOOD   \n",
       "\n",
       "                               Business Name            Business Type  \\\n",
       "0                          1st Base Catering           Mobile caterer   \n",
       "22                 Ackeee Tree - HAF Project  Other catering premises   \n",
       "23  Ackeee Tree Childrens Club - HAF Project  Other catering premises   \n",
       "27                            Agas Foods Ltd    Manufacturers/packers   \n",
       "29                              Aguia D Ouro        Retailers - other   \n",
       "\n",
       "   PostCode        Rating Value                     Rating Key Rating Date  \\\n",
       "0   E20 2ST  AwaitingInspection  fhrs_awaitinginspection_en-GB         NaN   \n",
       "22   E7 8LE  AwaitingInspection  fhrs_awaitinginspection_en-GB         NaN   \n",
       "23   E7 8JT  AwaitingInspection  fhrs_awaitinginspection_en-GB         NaN   \n",
       "27  E13 0QZ              Exempt              fhrs_exempt_en-GB   9/13/2017   \n",
       "29  E16 1FD  AwaitingInspection  fhrs_awaitinginspection_en-GB         NaN   \n",
       "\n",
       "    Local Authority Code Local Authority Name  Longitude   Latitude  \n",
       "0                    525               Newham  -0.018066  51.538799  \n",
       "22                   525               Newham   0.032353  51.539895  \n",
       "23                   525               Newham   0.032430  51.541611  \n",
       "27                   525               Newham   0.031067  51.537643  \n",
       "29                   525               Newham   0.021563  51.508239  "
      ]
     },
     "execution_count": 11,
     "metadata": {},
     "output_type": "execute_result"
    }
   ],
   "source": [
    "dataset_not_rated.head()"
   ]
  },
  {
   "cell_type": "code",
   "execution_count": 12,
   "id": "1e1df4c1",
   "metadata": {},
   "outputs": [
    {
     "data": {
      "text/plain": [
       "2439"
      ]
     },
     "execution_count": 12,
     "metadata": {},
     "output_type": "execute_result"
    }
   ],
   "source": [
    "ai = (dataset_not_rated['Business Type'].where(dataset_not_rated[('Rating Value')] == 'AwaitingInspection'))\n",
    "a = ai.count()\n",
    "a"
   ]
  },
  {
   "cell_type": "code",
   "execution_count": 13,
   "id": "89f7e259",
   "metadata": {},
   "outputs": [
    {
     "data": {
      "text/plain": [
       "1070"
      ]
     },
     "execution_count": 13,
     "metadata": {},
     "output_type": "execute_result"
    }
   ],
   "source": [
    "emt = (dataset_not_rated['Business Type'].where(dataset_not_rated[('Rating Value')] == 'Exempt'))\n",
    "s = emt.count()\n",
    "s"
   ]
  },
  {
   "cell_type": "code",
   "execution_count": 14,
   "id": "fd16986e",
   "metadata": {},
   "outputs": [
    {
     "data": {
      "text/plain": [
       "1"
      ]
     },
     "execution_count": 14,
     "metadata": {},
     "output_type": "execute_result"
    }
   ],
   "source": [
    "ap = (dataset_not_rated['Business Type'].where(dataset_not_rated[('Rating Value')] == 'AwaitingPublication'))\n",
    "d = ap.count()\n",
    "d"
   ]
  },
  {
   "cell_type": "code",
   "execution_count": 15,
   "id": "365c3f8a",
   "metadata": {},
   "outputs": [],
   "source": [
    "#l = a + s + d\n",
    "#l"
   ]
  },
  {
   "cell_type": "code",
   "execution_count": 16,
   "id": "2f92cdc9",
   "metadata": {},
   "outputs": [
    {
     "name": "stdout",
     "output_type": "stream",
     "text": [
      "Shape of the dataset: (3510, 12)\n",
      "There are 3510 rows in the \"Not_rated\" data.\n"
     ]
    }
   ],
   "source": [
    "print(f'Shape of the dataset: {dataset_not_rated.shape}')\n",
    "print(f'There are {dataset_not_rated.shape[0]} rows in the \"Not_rated\" data.')"
   ]
  },
  {
   "cell_type": "code",
   "execution_count": null,
   "id": "a0cd2b70",
   "metadata": {},
   "outputs": [],
   "source": []
  },
  {
   "cell_type": "markdown",
   "id": "9aceea5d",
   "metadata": {},
   "source": [
    "    3.3.2 Rated values"
   ]
  },
  {
   "cell_type": "code",
   "execution_count": 17,
   "id": "703700c7",
   "metadata": {},
   "outputs": [],
   "source": [
    "rated = ['0', '1', '2', '3', '4', '5']\n",
    "dataset_rated = dataset[dataset['Rating Value'].isin(rated)]"
   ]
  },
  {
   "cell_type": "code",
   "execution_count": 18,
   "id": "800a7b23",
   "metadata": {
    "scrolled": true
   },
   "outputs": [
    {
     "data": {
      "text/html": [
       "<div>\n",
       "<style scoped>\n",
       "    .dataframe tbody tr th:only-of-type {\n",
       "        vertical-align: middle;\n",
       "    }\n",
       "\n",
       "    .dataframe tbody tr th {\n",
       "        vertical-align: top;\n",
       "    }\n",
       "\n",
       "    .dataframe thead th {\n",
       "        text-align: right;\n",
       "    }\n",
       "</style>\n",
       "<table border=\"1\" class=\"dataframe\">\n",
       "  <thead>\n",
       "    <tr style=\"text-align: right;\">\n",
       "      <th></th>\n",
       "      <th>FHRS_ID</th>\n",
       "      <th>Local Authority Business_ID</th>\n",
       "      <th>Business Name</th>\n",
       "      <th>Business Type</th>\n",
       "      <th>PostCode</th>\n",
       "      <th>Rating Value</th>\n",
       "      <th>Rating Key</th>\n",
       "      <th>Rating Date</th>\n",
       "      <th>Local Authority Code</th>\n",
       "      <th>Local Authority Name</th>\n",
       "      <th>Longitude</th>\n",
       "      <th>Latitude</th>\n",
       "    </tr>\n",
       "  </thead>\n",
       "  <tbody>\n",
       "    <tr>\n",
       "      <th>1</th>\n",
       "      <td>1132140</td>\n",
       "      <td>19/00459/FOOD</td>\n",
       "      <td>53.5 Degrees</td>\n",
       "      <td>Restaurant/Cafe/Canteen</td>\n",
       "      <td>E16 2RD</td>\n",
       "      <td>5</td>\n",
       "      <td>fhrs_5_en-GB</td>\n",
       "      <td>5/10/2019</td>\n",
       "      <td>525</td>\n",
       "      <td>Newham</td>\n",
       "      <td>0.064757</td>\n",
       "      <td>51.507405</td>\n",
       "    </tr>\n",
       "    <tr>\n",
       "      <th>2</th>\n",
       "      <td>1132134</td>\n",
       "      <td>19/00447/FOOD</td>\n",
       "      <td>53.5 Degrees</td>\n",
       "      <td>Restaurant/Cafe/Canteen</td>\n",
       "      <td>E15 4LZ</td>\n",
       "      <td>5</td>\n",
       "      <td>fhrs_5_en-GB</td>\n",
       "      <td>5/14/2019</td>\n",
       "      <td>525</td>\n",
       "      <td>Newham</td>\n",
       "      <td>0.009809</td>\n",
       "      <td>51.543395</td>\n",
       "    </tr>\n",
       "    <tr>\n",
       "      <th>3</th>\n",
       "      <td>1260384</td>\n",
       "      <td>20/00288/FOOD</td>\n",
       "      <td>55 Square Limited</td>\n",
       "      <td>Restaurant/Cafe/Canteen</td>\n",
       "      <td>E16 1EN</td>\n",
       "      <td>2</td>\n",
       "      <td>fhrs_2_en-GB</td>\n",
       "      <td>12/9/2020</td>\n",
       "      <td>525</td>\n",
       "      <td>Newham</td>\n",
       "      <td>0.012417</td>\n",
       "      <td>51.517514</td>\n",
       "    </tr>\n",
       "    <tr>\n",
       "      <th>4</th>\n",
       "      <td>1389145</td>\n",
       "      <td>21/00354/FOOD</td>\n",
       "      <td>7 Mamas Ltd</td>\n",
       "      <td>Takeaway/sandwich shop</td>\n",
       "      <td>E6 3HN</td>\n",
       "      <td>5</td>\n",
       "      <td>fhrs_5_en-GB</td>\n",
       "      <td>1/5/2022</td>\n",
       "      <td>525</td>\n",
       "      <td>Newham</td>\n",
       "      <td>0.055372</td>\n",
       "      <td>51.527803</td>\n",
       "    </tr>\n",
       "    <tr>\n",
       "      <th>5</th>\n",
       "      <td>680560</td>\n",
       "      <td>13/00452/COMM</td>\n",
       "      <td>7 Till 11 Uk Ltd</td>\n",
       "      <td>Retailers - other</td>\n",
       "      <td>E7 9BY</td>\n",
       "      <td>4</td>\n",
       "      <td>fhrs_4_en-GB</td>\n",
       "      <td>9/13/2019</td>\n",
       "      <td>525</td>\n",
       "      <td>Newham</td>\n",
       "      <td>0.017781</td>\n",
       "      <td>51.550156</td>\n",
       "    </tr>\n",
       "    <tr>\n",
       "      <th>6</th>\n",
       "      <td>849344</td>\n",
       "      <td>74760/0518/0/000</td>\n",
       "      <td>777 Shops</td>\n",
       "      <td>Retailers - other</td>\n",
       "      <td>E7 8AF</td>\n",
       "      <td>1</td>\n",
       "      <td>fhrs_1_en-GB</td>\n",
       "      <td>2/27/2020</td>\n",
       "      <td>525</td>\n",
       "      <td>Newham</td>\n",
       "      <td>0.039902</td>\n",
       "      <td>51.548127</td>\n",
       "    </tr>\n",
       "    <tr>\n",
       "      <th>7</th>\n",
       "      <td>1031405</td>\n",
       "      <td>18/00068/FOOD</td>\n",
       "      <td>786HYE Limited</td>\n",
       "      <td>Retailers - other</td>\n",
       "      <td>E12 6HN</td>\n",
       "      <td>3</td>\n",
       "      <td>fhrs_3_en-GB</td>\n",
       "      <td>3/6/2018</td>\n",
       "      <td>525</td>\n",
       "      <td>Newham</td>\n",
       "      <td>0.061288</td>\n",
       "      <td>51.549292</td>\n",
       "    </tr>\n",
       "    <tr>\n",
       "      <th>8</th>\n",
       "      <td>1366503</td>\n",
       "      <td>21/00173/FOOD</td>\n",
       "      <td>8 Slices Pizzeria</td>\n",
       "      <td>Restaurant/Cafe/Canteen</td>\n",
       "      <td>E16 1AT</td>\n",
       "      <td>5</td>\n",
       "      <td>fhrs_5_en-GB</td>\n",
       "      <td>6/23/2021</td>\n",
       "      <td>525</td>\n",
       "      <td>Newham</td>\n",
       "      <td>0.021100</td>\n",
       "      <td>51.507554</td>\n",
       "    </tr>\n",
       "    <tr>\n",
       "      <th>9</th>\n",
       "      <td>992959</td>\n",
       "      <td>17/00428/FOOD</td>\n",
       "      <td>A Cafe &amp; Cream Corner</td>\n",
       "      <td>Restaurant/Cafe/Canteen</td>\n",
       "      <td>E12 6RH</td>\n",
       "      <td>4</td>\n",
       "      <td>fhrs_4_en-GB</td>\n",
       "      <td>11/9/2017</td>\n",
       "      <td>525</td>\n",
       "      <td>Newham</td>\n",
       "      <td>0.049225</td>\n",
       "      <td>51.545979</td>\n",
       "    </tr>\n",
       "    <tr>\n",
       "      <th>10</th>\n",
       "      <td>864146</td>\n",
       "      <td>78550/0026/0/000</td>\n",
       "      <td>A D S News</td>\n",
       "      <td>Retailers - other</td>\n",
       "      <td>E6 1NQ</td>\n",
       "      <td>5</td>\n",
       "      <td>fhrs_5_en-GB</td>\n",
       "      <td>10/12/2018</td>\n",
       "      <td>525</td>\n",
       "      <td>Newham</td>\n",
       "      <td>0.049725</td>\n",
       "      <td>51.534656</td>\n",
       "    </tr>\n",
       "  </tbody>\n",
       "</table>\n",
       "</div>"
      ],
      "text/plain": [
       "    FHRS_ID Local Authority Business_ID          Business Name  \\\n",
       "1   1132140               19/00459/FOOD           53.5 Degrees   \n",
       "2   1132134               19/00447/FOOD           53.5 Degrees   \n",
       "3   1260384               20/00288/FOOD      55 Square Limited   \n",
       "4   1389145               21/00354/FOOD            7 Mamas Ltd   \n",
       "5    680560               13/00452/COMM       7 Till 11 Uk Ltd   \n",
       "6    849344            74760/0518/0/000              777 Shops   \n",
       "7   1031405               18/00068/FOOD         786HYE Limited   \n",
       "8   1366503               21/00173/FOOD      8 Slices Pizzeria   \n",
       "9    992959               17/00428/FOOD  A Cafe & Cream Corner   \n",
       "10   864146            78550/0026/0/000             A D S News   \n",
       "\n",
       "              Business Type PostCode Rating Value    Rating Key Rating Date  \\\n",
       "1   Restaurant/Cafe/Canteen  E16 2RD            5  fhrs_5_en-GB   5/10/2019   \n",
       "2   Restaurant/Cafe/Canteen  E15 4LZ            5  fhrs_5_en-GB   5/14/2019   \n",
       "3   Restaurant/Cafe/Canteen  E16 1EN            2  fhrs_2_en-GB   12/9/2020   \n",
       "4    Takeaway/sandwich shop   E6 3HN            5  fhrs_5_en-GB    1/5/2022   \n",
       "5         Retailers - other   E7 9BY            4  fhrs_4_en-GB   9/13/2019   \n",
       "6         Retailers - other   E7 8AF            1  fhrs_1_en-GB   2/27/2020   \n",
       "7         Retailers - other  E12 6HN            3  fhrs_3_en-GB    3/6/2018   \n",
       "8   Restaurant/Cafe/Canteen  E16 1AT            5  fhrs_5_en-GB   6/23/2021   \n",
       "9   Restaurant/Cafe/Canteen  E12 6RH            4  fhrs_4_en-GB   11/9/2017   \n",
       "10        Retailers - other   E6 1NQ            5  fhrs_5_en-GB  10/12/2018   \n",
       "\n",
       "    Local Authority Code Local Authority Name  Longitude   Latitude  \n",
       "1                    525               Newham   0.064757  51.507405  \n",
       "2                    525               Newham   0.009809  51.543395  \n",
       "3                    525               Newham   0.012417  51.517514  \n",
       "4                    525               Newham   0.055372  51.527803  \n",
       "5                    525               Newham   0.017781  51.550156  \n",
       "6                    525               Newham   0.039902  51.548127  \n",
       "7                    525               Newham   0.061288  51.549292  \n",
       "8                    525               Newham   0.021100  51.507554  \n",
       "9                    525               Newham   0.049225  51.545979  \n",
       "10                   525               Newham   0.049725  51.534656  "
      ]
     },
     "execution_count": 18,
     "metadata": {},
     "output_type": "execute_result"
    }
   ],
   "source": [
    "dataset_rated.head(10)"
   ]
  },
  {
   "cell_type": "code",
   "execution_count": 19,
   "id": "f29fc1e5",
   "metadata": {},
   "outputs": [
    {
     "data": {
      "text/plain": [
       "12544"
      ]
     },
     "execution_count": 19,
     "metadata": {},
     "output_type": "execute_result"
    }
   ],
   "source": [
    "five = (dataset_rated['Business Type'].where(dataset_rated[str('Rating Value')] == '5'))\n",
    "q = five.count()\n",
    "q"
   ]
  },
  {
   "cell_type": "code",
   "execution_count": 20,
   "id": "d473d9b9",
   "metadata": {},
   "outputs": [
    {
     "data": {
      "text/plain": [
       "4483"
      ]
     },
     "execution_count": 20,
     "metadata": {},
     "output_type": "execute_result"
    }
   ],
   "source": [
    "four = (dataset_rated['Business Type'].where(dataset_rated[str('Rating Value')] == '4'))\n",
    "w = four.count()\n",
    "w"
   ]
  },
  {
   "cell_type": "code",
   "execution_count": 21,
   "id": "2927bbd4",
   "metadata": {},
   "outputs": [
    {
     "data": {
      "text/plain": [
       "2450"
      ]
     },
     "execution_count": 21,
     "metadata": {},
     "output_type": "execute_result"
    }
   ],
   "source": [
    "three = (dataset_rated['Business Type'].where(dataset_rated[str('Rating Value')] == '3'))\n",
    "e = three.count()\n",
    "e"
   ]
  },
  {
   "cell_type": "code",
   "execution_count": 22,
   "id": "dbb9ae08",
   "metadata": {},
   "outputs": [
    {
     "data": {
      "text/plain": [
       "675"
      ]
     },
     "execution_count": 22,
     "metadata": {},
     "output_type": "execute_result"
    }
   ],
   "source": [
    "two = (dataset_rated['Business Type'].where(dataset_rated[str('Rating Value')] == '2'))\n",
    "r = two.count()\n",
    "r"
   ]
  },
  {
   "cell_type": "code",
   "execution_count": 23,
   "id": "8fe3ce9e",
   "metadata": {},
   "outputs": [
    {
     "data": {
      "text/plain": [
       "550"
      ]
     },
     "execution_count": 23,
     "metadata": {},
     "output_type": "execute_result"
    }
   ],
   "source": [
    "one = (dataset_rated['Business Type'].where(dataset_rated[str('Rating Value')] == '1'))\n",
    "t = one.count()\n",
    "t"
   ]
  },
  {
   "cell_type": "code",
   "execution_count": 24,
   "id": "ab0afdbe",
   "metadata": {},
   "outputs": [
    {
     "data": {
      "text/plain": [
       "140"
      ]
     },
     "execution_count": 24,
     "metadata": {},
     "output_type": "execute_result"
    }
   ],
   "source": [
    "zero = (dataset_rated['Business Type'].where(dataset_rated[str('Rating Value')] == '0'))\n",
    "y = zero.count()\n",
    "y"
   ]
  },
  {
   "cell_type": "code",
   "execution_count": 25,
   "id": "5aafdbd2",
   "metadata": {},
   "outputs": [],
   "source": [
    "#k = q + w + e + r + t + y\n",
    "#k"
   ]
  },
  {
   "cell_type": "code",
   "execution_count": 26,
   "id": "f1db10bb",
   "metadata": {},
   "outputs": [],
   "source": [
    "#l + k"
   ]
  },
  {
   "cell_type": "code",
   "execution_count": 27,
   "id": "aa5c0729",
   "metadata": {},
   "outputs": [
    {
     "name": "stdout",
     "output_type": "stream",
     "text": [
      "Shape of the data: (20842, 12)\n",
      "There are 20842 rows in the \"Rated\" data.\n"
     ]
    }
   ],
   "source": [
    "print(f'Shape of the data: {dataset_rated.shape}')\n",
    "print(f'There are {dataset_rated.shape[0]} rows in the \"Rated\" data.')"
   ]
  },
  {
   "cell_type": "code",
   "execution_count": null,
   "id": "a51fd7ad",
   "metadata": {},
   "outputs": [],
   "source": []
  },
  {
   "cell_type": "markdown",
   "id": "15b06397",
   "metadata": {},
   "source": [
    "3.4 Data Wrangling [cleaning & Transformation]"
   ]
  },
  {
   "cell_type": "markdown",
   "id": "0416b0e5",
   "metadata": {},
   "source": [
    "    3.4.1 Data Cleaning"
   ]
  },
  {
   "cell_type": "code",
   "execution_count": 28,
   "id": "6f43d173",
   "metadata": {},
   "outputs": [
    {
     "data": {
      "text/html": [
       "<div>\n",
       "<style scoped>\n",
       "    .dataframe tbody tr th:only-of-type {\n",
       "        vertical-align: middle;\n",
       "    }\n",
       "\n",
       "    .dataframe tbody tr th {\n",
       "        vertical-align: top;\n",
       "    }\n",
       "\n",
       "    .dataframe thead th {\n",
       "        text-align: right;\n",
       "    }\n",
       "</style>\n",
       "<table border=\"1\" class=\"dataframe\">\n",
       "  <thead>\n",
       "    <tr style=\"text-align: right;\">\n",
       "      <th></th>\n",
       "      <th>FHRS_ID</th>\n",
       "      <th>Local Authority Business_ID</th>\n",
       "      <th>Business Name</th>\n",
       "      <th>Business Type</th>\n",
       "      <th>PostCode</th>\n",
       "      <th>Rating Value</th>\n",
       "      <th>Rating Key</th>\n",
       "      <th>Rating Date</th>\n",
       "      <th>Local Authority Code</th>\n",
       "      <th>Local Authority Name</th>\n",
       "      <th>Longitude</th>\n",
       "      <th>Latitude</th>\n",
       "    </tr>\n",
       "  </thead>\n",
       "  <tbody>\n",
       "    <tr>\n",
       "      <th>0</th>\n",
       "      <td>1438654</td>\n",
       "      <td>21/00856/FOOD</td>\n",
       "      <td>1st Base Catering</td>\n",
       "      <td>Mobile caterer</td>\n",
       "      <td>E20 2ST</td>\n",
       "      <td>AwaitingInspection</td>\n",
       "      <td>fhrs_awaitinginspection_en-GB</td>\n",
       "      <td>NaN</td>\n",
       "      <td>525</td>\n",
       "      <td>Newham</td>\n",
       "      <td>-0.018066</td>\n",
       "      <td>51.538799</td>\n",
       "    </tr>\n",
       "    <tr>\n",
       "      <th>1</th>\n",
       "      <td>1132140</td>\n",
       "      <td>19/00459/FOOD</td>\n",
       "      <td>53.5 Degrees</td>\n",
       "      <td>Restaurant/Cafe/Canteen</td>\n",
       "      <td>E16 2RD</td>\n",
       "      <td>5</td>\n",
       "      <td>fhrs_5_en-GB</td>\n",
       "      <td>5/10/2019</td>\n",
       "      <td>525</td>\n",
       "      <td>Newham</td>\n",
       "      <td>0.064757</td>\n",
       "      <td>51.507405</td>\n",
       "    </tr>\n",
       "    <tr>\n",
       "      <th>2</th>\n",
       "      <td>1132134</td>\n",
       "      <td>19/00447/FOOD</td>\n",
       "      <td>53.5 Degrees</td>\n",
       "      <td>Restaurant/Cafe/Canteen</td>\n",
       "      <td>E15 4LZ</td>\n",
       "      <td>5</td>\n",
       "      <td>fhrs_5_en-GB</td>\n",
       "      <td>5/14/2019</td>\n",
       "      <td>525</td>\n",
       "      <td>Newham</td>\n",
       "      <td>0.009809</td>\n",
       "      <td>51.543395</td>\n",
       "    </tr>\n",
       "    <tr>\n",
       "      <th>3</th>\n",
       "      <td>1260384</td>\n",
       "      <td>20/00288/FOOD</td>\n",
       "      <td>55 Square Limited</td>\n",
       "      <td>Restaurant/Cafe/Canteen</td>\n",
       "      <td>E16 1EN</td>\n",
       "      <td>2</td>\n",
       "      <td>fhrs_2_en-GB</td>\n",
       "      <td>12/9/2020</td>\n",
       "      <td>525</td>\n",
       "      <td>Newham</td>\n",
       "      <td>0.012417</td>\n",
       "      <td>51.517514</td>\n",
       "    </tr>\n",
       "    <tr>\n",
       "      <th>4</th>\n",
       "      <td>1389145</td>\n",
       "      <td>21/00354/FOOD</td>\n",
       "      <td>7 Mamas Ltd</td>\n",
       "      <td>Takeaway/sandwich shop</td>\n",
       "      <td>E6 3HN</td>\n",
       "      <td>5</td>\n",
       "      <td>fhrs_5_en-GB</td>\n",
       "      <td>1/5/2022</td>\n",
       "      <td>525</td>\n",
       "      <td>Newham</td>\n",
       "      <td>0.055372</td>\n",
       "      <td>51.527803</td>\n",
       "    </tr>\n",
       "  </tbody>\n",
       "</table>\n",
       "</div>"
      ],
      "text/plain": [
       "   FHRS_ID Local Authority Business_ID      Business Name  \\\n",
       "0  1438654               21/00856/FOOD  1st Base Catering   \n",
       "1  1132140               19/00459/FOOD       53.5 Degrees   \n",
       "2  1132134               19/00447/FOOD       53.5 Degrees   \n",
       "3  1260384               20/00288/FOOD  55 Square Limited   \n",
       "4  1389145               21/00354/FOOD        7 Mamas Ltd   \n",
       "\n",
       "             Business Type PostCode        Rating Value  \\\n",
       "0           Mobile caterer  E20 2ST  AwaitingInspection   \n",
       "1  Restaurant/Cafe/Canteen  E16 2RD                   5   \n",
       "2  Restaurant/Cafe/Canteen  E15 4LZ                   5   \n",
       "3  Restaurant/Cafe/Canteen  E16 1EN                   2   \n",
       "4   Takeaway/sandwich shop   E6 3HN                   5   \n",
       "\n",
       "                      Rating Key Rating Date  Local Authority Code  \\\n",
       "0  fhrs_awaitinginspection_en-GB         NaN                   525   \n",
       "1                   fhrs_5_en-GB   5/10/2019                   525   \n",
       "2                   fhrs_5_en-GB   5/14/2019                   525   \n",
       "3                   fhrs_2_en-GB   12/9/2020                   525   \n",
       "4                   fhrs_5_en-GB    1/5/2022                   525   \n",
       "\n",
       "  Local Authority Name  Longitude   Latitude  \n",
       "0               Newham  -0.018066  51.538799  \n",
       "1               Newham   0.064757  51.507405  \n",
       "2               Newham   0.009809  51.543395  \n",
       "3               Newham   0.012417  51.517514  \n",
       "4               Newham   0.055372  51.527803  "
      ]
     },
     "execution_count": 28,
     "metadata": {},
     "output_type": "execute_result"
    }
   ],
   "source": [
    "dataset.head()"
   ]
  },
  {
   "cell_type": "code",
   "execution_count": 29,
   "id": "35fc38a0",
   "metadata": {},
   "outputs": [
    {
     "data": {
      "text/plain": [
       "count     24352\n",
       "unique        9\n",
       "top           5\n",
       "freq      12544\n",
       "Name: Rating Value, dtype: object"
      ]
     },
     "execution_count": 29,
     "metadata": {},
     "output_type": "execute_result"
    }
   ],
   "source": [
    "dataset['Rating Value'].describe()"
   ]
  },
  {
   "cell_type": "code",
   "execution_count": 30,
   "id": "0a664d1d",
   "metadata": {},
   "outputs": [
    {
     "data": {
      "text/html": [
       "<div>\n",
       "<style scoped>\n",
       "    .dataframe tbody tr th:only-of-type {\n",
       "        vertical-align: middle;\n",
       "    }\n",
       "\n",
       "    .dataframe tbody tr th {\n",
       "        vertical-align: top;\n",
       "    }\n",
       "\n",
       "    .dataframe thead th {\n",
       "        text-align: right;\n",
       "    }\n",
       "</style>\n",
       "<table border=\"1\" class=\"dataframe\">\n",
       "  <thead>\n",
       "    <tr style=\"text-align: right;\">\n",
       "      <th></th>\n",
       "      <th>FHRS_ID</th>\n",
       "      <th>Local Authority Code</th>\n",
       "      <th>Longitude</th>\n",
       "      <th>Latitude</th>\n",
       "    </tr>\n",
       "  </thead>\n",
       "  <tbody>\n",
       "    <tr>\n",
       "      <th>count</th>\n",
       "      <td>2.435200e+04</td>\n",
       "      <td>24352.000000</td>\n",
       "      <td>24352.000000</td>\n",
       "      <td>24352.000000</td>\n",
       "    </tr>\n",
       "    <tr>\n",
       "      <th>mean</th>\n",
       "      <td>9.078713e+05</td>\n",
       "      <td>516.565662</td>\n",
       "      <td>-0.101340</td>\n",
       "      <td>51.528516</td>\n",
       "    </tr>\n",
       "    <tr>\n",
       "      <th>std</th>\n",
       "      <td>3.808622e+05</td>\n",
       "      <td>9.214929</td>\n",
       "      <td>0.146662</td>\n",
       "      <td>0.052086</td>\n",
       "    </tr>\n",
       "    <tr>\n",
       "      <th>min</th>\n",
       "      <td>5.930000e+02</td>\n",
       "      <td>501.000000</td>\n",
       "      <td>-3.422592</td>\n",
       "      <td>50.695622</td>\n",
       "    </tr>\n",
       "    <tr>\n",
       "      <th>25%</th>\n",
       "      <td>5.152438e+05</td>\n",
       "      <td>509.000000</td>\n",
       "      <td>-0.140140</td>\n",
       "      <td>51.503144</td>\n",
       "    </tr>\n",
       "    <tr>\n",
       "      <th>50%</th>\n",
       "      <td>1.000268e+06</td>\n",
       "      <td>514.000000</td>\n",
       "      <td>-0.088583</td>\n",
       "      <td>51.534371</td>\n",
       "    </tr>\n",
       "    <tr>\n",
       "      <th>75%</th>\n",
       "      <td>1.263384e+06</td>\n",
       "      <td>526.000000</td>\n",
       "      <td>-0.013117</td>\n",
       "      <td>51.559136</td>\n",
       "    </tr>\n",
       "    <tr>\n",
       "      <th>max</th>\n",
       "      <td>1.486251e+06</td>\n",
       "      <td>533.000000</td>\n",
       "      <td>0.524309</td>\n",
       "      <td>53.741785</td>\n",
       "    </tr>\n",
       "  </tbody>\n",
       "</table>\n",
       "</div>"
      ],
      "text/plain": [
       "            FHRS_ID  Local Authority Code     Longitude      Latitude\n",
       "count  2.435200e+04          24352.000000  24352.000000  24352.000000\n",
       "mean   9.078713e+05            516.565662     -0.101340     51.528516\n",
       "std    3.808622e+05              9.214929      0.146662      0.052086\n",
       "min    5.930000e+02            501.000000     -3.422592     50.695622\n",
       "25%    5.152438e+05            509.000000     -0.140140     51.503144\n",
       "50%    1.000268e+06            514.000000     -0.088583     51.534371\n",
       "75%    1.263384e+06            526.000000     -0.013117     51.559136\n",
       "max    1.486251e+06            533.000000      0.524309     53.741785"
      ]
     },
     "execution_count": 30,
     "metadata": {},
     "output_type": "execute_result"
    }
   ],
   "source": [
    "dataset.describe()"
   ]
  },
  {
   "cell_type": "code",
   "execution_count": 31,
   "id": "a82be88b",
   "metadata": {},
   "outputs": [
    {
     "name": "stdout",
     "output_type": "stream",
     "text": [
      "<class 'pandas.core.frame.DataFrame'>\n",
      "RangeIndex: 24352 entries, 0 to 24351\n",
      "Data columns (total 12 columns):\n",
      " #   Column                       Non-Null Count  Dtype  \n",
      "---  ------                       --------------  -----  \n",
      " 0   FHRS_ID                      24352 non-null  int64  \n",
      " 1   Local Authority Business_ID  24352 non-null  object \n",
      " 2   Business Name                24351 non-null  object \n",
      " 3   Business Type                24352 non-null  object \n",
      " 4   PostCode                     24352 non-null  object \n",
      " 5   Rating Value                 24352 non-null  object \n",
      " 6   Rating Key                   24352 non-null  object \n",
      " 7   Rating Date                  21901 non-null  object \n",
      " 8   Local Authority Code         24352 non-null  int64  \n",
      " 9   Local Authority Name         24352 non-null  object \n",
      " 10  Longitude                    24352 non-null  float64\n",
      " 11  Latitude                     24352 non-null  float64\n",
      "dtypes: float64(2), int64(2), object(8)\n",
      "memory usage: 2.2+ MB\n"
     ]
    }
   ],
   "source": [
    "dataset.info()"
   ]
  },
  {
   "cell_type": "code",
   "execution_count": 32,
   "id": "32a8f45f",
   "metadata": {},
   "outputs": [
    {
     "name": "stdout",
     "output_type": "stream",
     "text": [
      "<class 'pandas.core.frame.DataFrame'>\n",
      "Int64Index: 20842 entries, 1 to 24351\n",
      "Data columns (total 12 columns):\n",
      " #   Column                       Non-Null Count  Dtype  \n",
      "---  ------                       --------------  -----  \n",
      " 0   FHRS_ID                      20842 non-null  int64  \n",
      " 1   Local Authority Business_ID  20842 non-null  object \n",
      " 2   Business Name                20842 non-null  object \n",
      " 3   Business Type                20842 non-null  object \n",
      " 4   PostCode                     20842 non-null  object \n",
      " 5   Rating Value                 20842 non-null  object \n",
      " 6   Rating Key                   20842 non-null  object \n",
      " 7   Rating Date                  20842 non-null  object \n",
      " 8   Local Authority Code         20842 non-null  int64  \n",
      " 9   Local Authority Name         20842 non-null  object \n",
      " 10  Longitude                    20842 non-null  float64\n",
      " 11  Latitude                     20842 non-null  float64\n",
      "dtypes: float64(2), int64(2), object(8)\n",
      "memory usage: 2.1+ MB\n"
     ]
    }
   ],
   "source": [
    "dataset_rated.info()"
   ]
  },
  {
   "cell_type": "code",
   "execution_count": 33,
   "id": "98ae5e85",
   "metadata": {},
   "outputs": [
    {
     "name": "stdout",
     "output_type": "stream",
     "text": [
      "<class 'pandas.core.frame.DataFrame'>\n",
      "Int64Index: 3510 entries, 0 to 24338\n",
      "Data columns (total 12 columns):\n",
      " #   Column                       Non-Null Count  Dtype  \n",
      "---  ------                       --------------  -----  \n",
      " 0   FHRS_ID                      3510 non-null   int64  \n",
      " 1   Local Authority Business_ID  3510 non-null   object \n",
      " 2   Business Name                3509 non-null   object \n",
      " 3   Business Type                3510 non-null   object \n",
      " 4   PostCode                     3510 non-null   object \n",
      " 5   Rating Value                 3510 non-null   object \n",
      " 6   Rating Key                   3510 non-null   object \n",
      " 7   Rating Date                  1059 non-null   object \n",
      " 8   Local Authority Code         3510 non-null   int64  \n",
      " 9   Local Authority Name         3510 non-null   object \n",
      " 10  Longitude                    3510 non-null   float64\n",
      " 11  Latitude                     3510 non-null   float64\n",
      "dtypes: float64(2), int64(2), object(8)\n",
      "memory usage: 356.5+ KB\n"
     ]
    }
   ],
   "source": [
    "dataset_not_rated.info()"
   ]
  },
  {
   "cell_type": "markdown",
   "id": "d1fd0673",
   "metadata": {},
   "source": [
    "Rated and Not_rated dataset will have the same number of columns as original 'dataset' since they're extracted from it"
   ]
  },
  {
   "cell_type": "code",
   "execution_count": 34,
   "id": "c0cc69d0",
   "metadata": {},
   "outputs": [
    {
     "data": {
      "text/plain": [
       "FHRS_ID                        0\n",
       "Local Authority Business_ID    0\n",
       "Business Name                  0\n",
       "Business Type                  0\n",
       "PostCode                       0\n",
       "Rating Value                   0\n",
       "Rating Key                     0\n",
       "Rating Date                    0\n",
       "Local Authority Code           0\n",
       "Local Authority Name           0\n",
       "Longitude                      0\n",
       "Latitude                       0\n",
       "dtype: int64"
      ]
     },
     "execution_count": 34,
     "metadata": {},
     "output_type": "execute_result"
    }
   ],
   "source": [
    "dataset_rated.isnull().sum()"
   ]
  },
  {
   "cell_type": "markdown",
   "id": "723b4baf",
   "metadata": {},
   "source": [
    "    There isn't any missing data in this DataFrame"
   ]
  },
  {
   "cell_type": "code",
   "execution_count": 35,
   "id": "2b1bd361",
   "metadata": {},
   "outputs": [
    {
     "data": {
      "text/plain": [
       "FHRS_ID                           0\n",
       "Local Authority Business_ID       0\n",
       "Business Name                     1\n",
       "Business Type                     0\n",
       "PostCode                          0\n",
       "Rating Value                      0\n",
       "Rating Key                        0\n",
       "Rating Date                    2451\n",
       "Local Authority Code              0\n",
       "Local Authority Name              0\n",
       "Longitude                         0\n",
       "Latitude                          0\n",
       "dtype: int64"
      ]
     },
     "execution_count": 35,
     "metadata": {},
     "output_type": "execute_result"
    }
   ],
   "source": [
    "dataset_not_rated.isnull().sum()"
   ]
  },
  {
   "cell_type": "markdown",
   "id": "d98158a3",
   "metadata": {},
   "source": [
    "The 'Business Type' has a NaN[missing] value and Rating Date contains alot of missing value. Although we aren't really bordered about the Not_rated dataset."
   ]
  },
  {
   "cell_type": "code",
   "execution_count": null,
   "id": "718587b2",
   "metadata": {},
   "outputs": [],
   "source": []
  },
  {
   "cell_type": "code",
   "execution_count": 36,
   "id": "1e8532fc",
   "metadata": {},
   "outputs": [],
   "source": [
    "# fig, axarr = plt.subplots(2, 2, figsize=(17,12), dpi=80, facecolor='w', edgecolor='k')\n",
    "# sns.set(style=\"white\")\n",
    "# sns.countplot(x='Age', hue = 'Class',dataset = data_rated, ax=axarr[0][0], palette=\"Accent_r\")\n",
    "# axarr[0][0].set_title('Distribution of Age')\n",
    "# fig.suptitle('Frequency Distribution of Different Categorical Variable', fontsize=16);\n"
   ]
  },
  {
   "cell_type": "code",
   "execution_count": 99,
   "id": "04f0d6b1",
   "metadata": {},
   "outputs": [
    {
     "data": {
      "image/png": "[encoded data removed]",
      "text/plain": [
       "<Figure size 648x360 with 1 Axes>"
      ]
     },
     "metadata": {},
     "output_type": "display_data"
    }
   ],
   "source": [
    "fig, ax = plt.subplots(figsize=(9, 5))\n",
    "ax = sns.countplot(x = 'Rating Value', data = dataset_rated, color = 'yellow', linewidth = 2, edgecolor = sns.color_palette('dark', 1)).set_title('Count of Rating Values')"
   ]
  },
  {
   "cell_type": "markdown",
   "id": "b88a6da2",
   "metadata": {},
   "source": [
    "###   . The illustrative Bar graph above shows that most of the food businesses has a rating value of '5' [Hygiene standards are very good] "
   ]
  },
  {
   "cell_type": "code",
   "execution_count": null,
   "id": "24207743",
   "metadata": {},
   "outputs": [],
   "source": []
  },
  {
   "cell_type": "markdown",
   "id": "5500dc3b",
   "metadata": {},
   "source": [
    "# 4. Insights"
   ]
  },
  {
   "cell_type": "markdown",
   "id": "03b22dc7",
   "metadata": {},
   "source": [
    "Rating value \"5\" has noticeably more business name.\n",
    "\n",
    "\"fhrs_5_en_GB\" accounts for the majority of food_hygiene_rating_data.\n",
    "\n",
    "There is a linear correlation between food_hygiene_rating_data and Post code.\n",
    "\n",
    "'fhrs_5_en_GB' accounts for the majority of food_hygiene_rating_data  for Business Type 'Restaurant/Cafe/Canteen'.\n",
    "\n",
    "'Restaurant/Cafe/Canteen' and 'Retailers -other' have noticeably more Business Name for Rating Key 'fhrs_4_en-GB'.\n",
    "\n",
    "Rating value '5' accounts for the majority of food_hygiene_rating_data for Business Type 'Restaurant/Cafe/Canteen'.\n",
    "\n",
    "Rating value '5' has noticeably more Business Name for Local Authority Code '506'.\n",
    "\n",
    "'fhrs_5_en-GB' has noticeably more Business Name for Local Authority Name 'Camden'.\n",
    "\n",
    "​"
   ]
  },
  {
   "cell_type": "markdown",
   "id": "4cd800d1",
   "metadata": {},
   "source": [
    "# 5. Conclusion"
   ]
  },
  {
   "cell_type": "markdown",
   "id": "7220feb7",
   "metadata": {},
   "source": [
    "There is an increase [linear] in number of Business type having low ratings.\n",
    "\n",
    "Hospital/Children/Caring premises needs more inspection because they mostly have a low rating value.\n",
    "\n",
    "Governments needs to lockdown 'other catering premises' for a certain period of time because of their low rating value.\n",
    "\n",
    "Finally, governments through Local authority needs to inspect thoroughly  businesses with awaiting inspection rating value and others below rating value of 2."
   ]
  },
  {
   "cell_type": "code",
   "execution_count": null,
   "id": "bd15a7f1",
   "metadata": {},
   "outputs": [],
   "source": []
  }
 ],
 "metadata": {
  "kernelspec": {
   "display_name": "Python 3 (ipykernel)",
   "language": "python",
   "name": "python3"
  },
  "language_info": {
   "codemirror_mode": {
    "name": "ipython",
    "version": 3
   },
   "file_extension": ".py",
   "mimetype": "text/x-python",
   "name": "python",
   "nbconvert_exporter": "python",
   "pygments_lexer": "ipython3",
   "version": "3.9.7"
  }
 },
 "nbformat": 4,
 "nbformat_minor": 5
}
